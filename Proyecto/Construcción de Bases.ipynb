{
 "cells": [
  {
   "cell_type": "markdown",
   "metadata": {},
   "source": [
    "# Evaluación de Bases de Datos\n",
    "\n",
    "El siguiente paper pretende evaluar el performance (Tiempos de consulta, consumo de CPU, consumo de memoria para una consulta sencilla: búsqueda; una transformación y una agrupación) de 3 diferentes bases de datos. **MongoDB**, **ElasticSearch** y **Hadoop HDFS** (Investifar Cassandra, couchDB, Dynamo\n",
    "\n",
    "Se seleccionan 3 bases No-SQL debido a sus ventajas para el manejo de grandes volúmenes de datos con baja transaccionalidad gracias a su facil usabilidad, escalabilidad, performance, resilecia y  bajo costo.\n",
    "\n",
    "Para esta comparativa se evaluarán dichas bases con 1 master, 3 nodos, 140GB de información y ***Requerimientos de memoria y CPU***"
   ]
  },
  {
   "cell_type": "markdown",
   "metadata": {},
   "source": [
    "## Tipos de Base de Datos\n",
    "[![Imagen-DatabaseTypes](https://www.guru99.com/images/1/101818_0537_NoSQLTutori1.png)](https://dzone.com/articles/nosql-database-types-1)\n",
    "### Almacenamiento Key-Value\n",
    "Altamente escalable, con posibilidad de almacenar grandes cantidades de información. Almacena bajo el concepto de Clave-Valor y en estructura de diccionarios *Redis, Voldemort, Riak, and Amazon’s Dynamo*\n",
    "![Estructura de Base de Datos Llave Valor](https://dzone.com/storage/temp/1378403-introducingdatascience6png.jpg)\n",
    "### Almacenamiento Document\n",
    "Progresión de las Llaves-Valor. Puede contener Schema. Permite agregación de data, permite redundancia de información. *MongoDB and CouchDB.*\n",
    "![Estructura de Base de Datos Documental](https://dzone.com/storage/temp/1378404-introducingdatascience7.png)\n",
    "### Almacenamiento Column-Oriented\n",
    "Consulta en base columnar en vez de por fila. Permite velocidad para extraer información de una misma columna (Pocas columnas para mejor performance). Optima para sumas, cuentas y operaciones MapReduce. Bases:  *Apache HBase, Facebook’s Cassandra, Hypertable, Google BigTable*\n",
    "![Estructura de Base de Dato Columnar](https://dzone.com/storage/temp/1378395-introducingdatascience4.png)\n",
    "### Almacenamiento por Grafos\n",
    "Busca generar relaciones (ejes) entre entidades (nodos) de forma más eficiente. Las relaciones pueden ser bidireccionales o direccionadas, y tener propiedades (característica de la relación). Recomendada para cuando la información es altamente relacionada. *Neo4j, ACID*\n",
    "![Estructura de Base de Dato Columnar](https://dzone.com/storage/temp/1378416-introducingdatascience8.png)\n",
    "\n"
   ]
  },
  {
   "cell_type": "markdown",
   "metadata": {},
   "source": [
    "## Escalabilidad\n",
    "Las bases de datos SQL son de escalamiento vertical, implicando con esto que si es necesario incremento en CPU, RAM o SSD es necesario aumentarlo al mismo nodo, mientras que en NoSQL se busca escalamiento horizontal, permitiendo crecer en cantidad de máquinas virtuales necesarias según la necesidad de negocio. Adicionalmente estas bases no siguen el principio de normalización, por lo cual permite duplicidad de datos que permite eficiencias en las consultas al evitar *joins* que son de alto consumo de procesamiento y memoria.\n",
    "\n",
    "<img src=\"https://cloudspectator.com/wp-content/uploads/2016/10/linux-vm-hourly-pricing-increase-comparison.png\" width=400 align=left>\n"
   ]
  },
  {
   "cell_type": "markdown",
   "metadata": {},
   "source": [
    "|Criteria|MongoDB|ElasticSearch|Hbase|Cassandra|couchDB|Dynamo|BigTable|\n",
    "|---|---|---|---|---|---|---|---|\n",
    "|Tipo de Base|Document-Store|Document-Store|Column-Oriented|Column-Oriented|||Column-Oriented|\n",
    "|[Ranking](http://db-engines.com/en/ranking)|||||||\n",
    "|Formato de Guardado|Json|||\n",
    "|Lenguaje|||||Java|\n",
    "|Resilencia||||\n",
    "|Documentación||||\n",
    "|Recursos||||\n",
    "|Conectores R, Python, PowerBI, GDS||||\n",
    "|Conectores ML, TF, ...||||"
   ]
  },
  {
   "cell_type": "markdown",
   "metadata": {},
   "source": [
    "## MongoDB"
   ]
  }
 ],
 "metadata": {
  "kernelspec": {
   "display_name": "Python 3",
   "language": "python",
   "name": "python3"
  },
  "language_info": {
   "codemirror_mode": {
    "name": "ipython",
    "version": 3
   },
   "file_extension": ".py",
   "mimetype": "text/x-python",
   "name": "python",
   "nbconvert_exporter": "python",
   "pygments_lexer": "ipython3",
   "version": "3.8.3"
  }
 },
 "nbformat": 4,
 "nbformat_minor": 4
}
